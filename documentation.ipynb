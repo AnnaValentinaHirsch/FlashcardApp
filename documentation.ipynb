{
 "cells": [
  {
   "cell_type": "markdown",
   "metadata": {},
   "source": [
    "# Flash Card Project \n",
    "This project was created in the context of course \"Python Programming: Beginner to Practitioner\".\n",
    "\n",
    "| Contributors | E-Mail |\n",
    "|--------------|--------------|\n",
    "| Alicem Susam | |\n",
    "| Anna-Valentina Hirsch | |\n",
    "| Nadja Macht | nadja.macht@gmail.com |\n",
    "| Pierre Mayer | |\n",
    "| Yannick Kälber| |\n",
    "\n"
   ]
  },
  {
   "cell_type": "markdown",
   "metadata": {},
   "source": [
    "## General Notes\n",
    "\n",
    "Our project set up is modularized. This notebooks purpose is to document our approach, relevant parts of the code and the choices we made to get the project done."
   ]
  },
  {
   "cell_type": "markdown",
   "metadata": {},
   "source": []
  },
  {
   "cell_type": "markdown",
   "metadata": {},
   "source": []
  },
  {
   "cell_type": "markdown",
   "metadata": {},
   "source": []
  },
  {
   "cell_type": "markdown",
   "metadata": {},
   "source": []
  },
  {
   "cell_type": "code",
   "execution_count": null,
   "metadata": {},
   "outputs": [],
   "source": []
  }
 ],
 "metadata": {
  "language_info": {
   "name": "python"
  }
 },
 "nbformat": 4,
 "nbformat_minor": 2
}
