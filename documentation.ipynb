{
 "cells": [
  {
   "cell_type": "markdown",
   "metadata": {
    "id": "ha4pk1NjR9sr"
   },
   "source": [
    "# TL;DR:\n",
    "\n",
    "Study and memorise information easily using our digital flashcards App. Create custom decks of flashcards, add questions and answers to the cards, and track track your learning progress!\n",
    "\n",
    "Run `main.py` to test the app with the interface.\n",
    "\n",
    "Run `pip install -r requirements.txt` to install requirements.\n"
   ]
  },
  {
   "metadata": {},
   "cell_type": "markdown",
   "source": "<a href=\"https://colab.research.google.com/github/AnnaValentinaHirsch/FlashcardApp/blob/main/documentation.ipynb\" target=\"_parent\"><img src=\"https://colab.research.google.com/assets/colab-badge.svg\" alt=\"Open In Colab\"/></a>"
  },
  {
   "metadata": {},
   "cell_type": "markdown",
   "source": [
    "# Flash Card Project\n",
    "This project is part of the Python Programming course offered by OpenCampus Kiel, Germany, and aims to assist participants from various backgrounds in learning web development. It is a collaborative effort by a group of students who are working together to create a Flash Card Tool that can be used to study various topics.\n",
    "\n",
    "\n",
    "| Contributor           | GitHub Username      | E-Mail                         | Main Contributions                                |\n",
    "|-----------------------|----------------------|--------------------------------|---------------------------------------------------|\n",
    "| Alicem Susam          | @AlicemSu62          | stu220340@mail.uni-kiel.de     | JSON Integration, File Operations, Testing        |\n",
    "| Anna-Valentina Hirsch | @AnnaValentinaHirsch | a-valentina.hirsch@hotmail.com | Learning Session, Flashcard Manager, Deck Manager |\n",
    "| Nadja Macht           | @nadja-macht         | nadja.macht@gmail.com          | GUI, Help Screen, Documentation                   |\n",
    "| Pierre Mayer          | @pierremayer94       | pierremayer94@gmail.com        | GUI Functionality, Scoring System, Documentation  |\n",
    "| Yannick Kälber        | @YannickKae          | yannick.kaelber@gmail.com      | GUI Design, Testing, Flashcard Management         |\n",
    "\n"
   ]
  },
  {
   "metadata": {},
   "cell_type": "markdown",
   "source": [
    "# 1. Introduction - Task Understanding\n",
    "\n",
    "The main goal of this project is to create a flash card tool specifically designed to assist in the acquisition of knowledge on different subjects. The application provides users with a range of features, such as the creation, storage, and management of learning cards. Furthermore, it seeks to enhance comprehension of the educational material through gamification, as the application also has a scoring system to monitor user progress.\n",
    "\n",
    "The project setup is organised into modules. The objective of this specific notebook is to chronicle our strategy, key components of the code, and the decisions we made to complete the project.  \n",
    "\n"
   ]
  },
  {
   "metadata": {},
   "cell_type": "markdown",
   "source": [
    "## 1.1. Thinking Process\n",
    "\n",
    "We started out by visualsing and thinking through the functionality of the application. While this process helped us align our expectations and work out a comprehensive requirements list, we quickly realised that in order to make progresd, we need to start prototyping at a very early stage.\n",
    "\n",
    "### 1.1.1. General assumptions and specifications\n",
    "* Keep it simple and the scope small to make sure we get the project done.\n",
    "* It's ok if not all our ideas are built into the program yet.\n",
    "* Deliver a command line tool. (This expectation changed in the last session.)\n",
    "* The MVP of the app will be used by a single user.\n",
    "* We need a way to save sets and cards.\n",
    "* We want some kind of scoring.\n",
    "* We want to randomize the cards.\n",
    "\n",
    "### 1.1.2. Early decisions\n",
    "* Work with GitHub\n",
    "* Modularize, *.py files\n",
    "* Use tkinter for GUI\n",
    "\n",
    "### 1.1.3. Flow Chart FlashCard App\n",
    "\n",
    "![Flow Chart FlashCard App](images/flow-chart-flashcard-app.png \"Flow Chart FlashCard App\")"
   ]
  },
  {
   "cell_type": "markdown",
   "metadata": {
    "id": "aNyPsMYDR9sr"
   },
   "source": [
    "# 2. App Specifications\n",
    "\n",
    "### 2.1. System Requirements\n",
    "\n",
    "- Python 3.8 or higher\n",
    "- Required libraries:\n",
    "  ####  `tkinter` (built-in)\n",
    "  ####  `customtkinter`\n",
    "\n",
    "\n",
    "### 2.2. Used Libraries and Modules\n",
    "\n",
    "```python\n",
    "import customtkinter as ctk\n",
    "```\n",
    "This imports the customtkinter library and assigns it the alias ctk. customtkinter is a custom version of the standard tkinter library that provides additional widgets and styles for creating modern and aesthetically pleasing GUIs. Using the alias ctk allows to refer refer to the library’s components in a more concise way within the code.\n",
    "\n",
    "```python\n",
    "import tkinter as tk\n",
    "```\n",
    "This imports the standard tkinter library, which is Python’s de facto standard GUI (Graphical User Interface) package. It allows to create windows, dialogs, buttons, menus, and many other GUI elements. Assigning it the alias tk simplifies the reference to the library’s classes and functions in the code.\n",
    "\n",
    "```python\n",
    "import tkinter.font as tkfont:\n",
    "```\n",
    "This imports the font module from the tkinter library and assigns it the alias tkfont. The tkinter.font module provides utilities to work with fonts in tkinter applications. It allows to create, modify, and apply different font styles to the text displayed in the GUI components.\n",
    "\n",
    "```python\n",
    "import re\n",
    "```\n",
    "This imports the re module, which provides support for working with regular expressions in Python. Regular expressions (regex) are a powerful tool for matching, searching, and manipulating strings based on specific patterns. The re module allows to perform complex string processing tasks, such as validating input, searching for patterns within text, and replacing substrings.\n",
    "\n",
    "---"
   ]
  },
  {
   "cell_type": "markdown",
   "source": [
    "# 3. App Structure\n",
    "\n",
    "## 3.1. Key Components\n",
    "\n",
    "| Component       | Description                                                      |\n",
    "|-----------------|------------------------------------------------------------------|\n",
    "| FlashcardGUI    | Initializes GUI, manages app flow                                |\n",
    "| DeckManager     | Manages deck creation, editing, deletion                         |\n",
    "| CardEditor      | Adds, edits, deletes cards                                       |\n",
    "| LearningSession | Manages study sessions, answer checking, progress tracking       |\n",
    "| Statistics      | Calculates and displays performance stats                        |\n",
    "| FileOperations  | Handles JSON import/export                                       |\n",
    "\n",
    "\n",
    "<br>\n",
    "\n",
    "## 3.2. Data Structures\n",
    "\n",
    "#### **Flashcard**\n",
    "\n",
    "| Attribute      | Description            |\n",
    "|----------------|------------------------|\n",
    "| front          | Question               |\n",
    "| back           | Answer                 |\n",
    "| review_count   | Number of reviews      |\n",
    "| correct_count  | Number of correct answers |\n",
    "\n",
    "<br>\n",
    "\n",
    "#### **FlashcardSet**\n",
    "\n",
    "| Attribute      | Description              |\n",
    "|----------------|--------------------------|\n",
    "| title          | Deck title               |\n",
    "| cards          | List of Flashcard objects|\n",
    "\n",
    "<br>\n",
    "\n",
    "#### **File Management**\n",
    "\n",
    "- Deck data is saved in JSON format\n",
    "- Each deck is saved as a separate JSON file in the application directory\n",
    "- Import/export functions use JSON for data interchange\n",
    "\n",
    "<br>\n",
    "\n",
    "#### **Error Handling**\n",
    "\n",
    "- **Input Validation** for deck and card creation\n",
    "- **Error Messages** for invalid actions (e.g., studying an empty deck)\n",
    "- **Exception Handling** for file operations"
   ],
   "metadata": {
    "id": "3OJxwjqzXJaU"
   }
  },
  {
   "cell_type": "markdown",
   "source": [
    "# 4. Main Features\n",
    "\n",
    "\n",
    "\n",
    "| Feature          | Options                                                                                 |\n",
    "|------------------|-----------------------------------------------------------------------------------------|\n",
    "| **Deck Management** | - Create new decks with custom titles <br> - Edit existing decks (rename, modify cards) <br> - Delete decks with confirmation prompt <br> - View deck-specific statistics  |\n",
    "| **Card Management** | - Add new cards with questions and answers <br> - Edit existing cards <br> - Delete individual cards  |\n",
    "| **Study Session**   | - Interactive learning with randomized card order <br> - Check answer or reveal correct answer <br> - Track progress within session <br> - End session early or continue until all cards are reviewed  |\n",
    "| **Statistics**      | - View individual deck statistics <br> - Total score <br> - Success rate  |\n",
    "| **Import/Export**   | - Export decks to JSON format <br> - Import decks from JSON files  |\n"
   ],
   "metadata": {
    "id": "6whHwXeoW3X1"
   }
  },
  {
   "cell_type": "markdown",
   "source": [
    "# 5. User Interface\n",
    "\n",
    "### 5.1. Main Screen\n",
    "\n",
    "The main screen displays a list of all created decks. Each deck is represented by a card showing the deck title and number of cards. Options available on the main screen include:\n",
    "\n",
    "- Create New Deck\n",
    "- Export Decks\n",
    "- Import Decks\n",
    "- View Overall Statistics\n",
    "- Access Help\n",
    "- Exit Application\n",
    "\n",
    "### 5.2. Deck Creation and Editing\n",
    "\n",
    "| Action                    | Steps                                                                                                                   |\n",
    "|---------------------------|-------------------------------------------------------------------------------------------------------------------------|\n",
    "| **Create new deck:**      | 1. Click \"Create New Deck\" on the main screen<br>2. Enter a title for the deck<br>3. Press Enter or click \"Create Deck\" |\n",
    "| **Edit deck:**   | 1. Click \"Edit\" on the \"your decks\" menu<br>2. Modify card contents, add new cards, or delete existing cards            |\n",
    "| **Delete deck:** | 1. Click \"Delete\" on the \"your decks\" menu<br>2. Confirm Deletion.                                                      |\n",
    "\n",
    "\n",
    "### 5.3. Card Creation and Editing\n",
    "\n",
    "| Action                 | Steps                                                                 |\n",
    "|------------------------|-----------------------------------------------------------------------|\n",
    "| **Add card:**   | 1. Enter the question in the \"Question\" field<br>2. Press Enter to move to the \"Answer\" field<br>3. Enter the answer<br>4. Press Enter or click \"Add Card\" |\n",
    "| **Edit card:** | 1. In the deck editing view, select the card to edit<br>2. Modify the question or answer as needed<br>3. Save changes |\n",
    "\n",
    "\n",
    "### 5.4. Study Session Interface\n",
    "\n",
    "The study session screen shows:\n",
    "\n",
    "- Current card number and total cards\n",
    "- Question field\n",
    "- Answer input field\n",
    "- \"Check Answer\" and \"Show Answer\" buttons\n",
    "- Navigation buttons (Previous, Next, End Session)\n",
    "\n",
    "### 5.5. Statistics View\n",
    "\n",
    "Statistics are displayed for individual decks and overall performance, showing:\n",
    "\n",
    "- Total cards reviewed\n",
    "- Correct answers\n",
    "- Success rate\n",
    "\n",
    "### 5.6. Help\n",
    "\n",
    "- Access application description (see image below)\n",
    "\n",
    "\n",
    "The intention this component is to provide a structured way to display formatted help information in the application, making it easy to update the help content by modifying a text file.\n",
    "\n",
    "**help_screen.py** defines two classes, **SimpleMarkdownText** and **HelpScreen**, which together create a help screen using the Tkinter GUI toolkit and its custom extension, CustomTkinter.\n",
    "\n",
    "1.\t**SimpleMarkdownText Class:**\n",
    "    This class renders Markdown text within a Tkinter frame. It parses the input Markdown text and creates corresponding widgets for headings, bullet points, bold text, italic text, and normal text. This allows for the display of formatted text within a Tkinter application.\n",
    "\n",
    "2.\t**HelpScreen Class:**\n",
    "    This class manages the help screen of the application. It sets the default font to Roboto (if available), clears existing widgets from the parent frame, and creates a new layout with a header and a scrollable frame containing the help text. The help text is loaded from a file named help_text.txt and displayed using the SimpleMarkdownText class.\n",
    "\n",
    "\n"
   ],
   "metadata": {
    "id": "v6NUXqXLW7dy"
   }
  },
  {
   "cell_type": "markdown",
   "metadata": {
    "id": "Y0KBT7CJR9ss"
   },
   "source": [
    "\n",
    "<img src=\"https://github.com/AnnaValentinaHirsch/FlashcardApp/blob/main/images/help_screen.png?raw=1\" width=\"300\" height=\"\">\n",
    "\n",
    "\n"
   ]
  },
  {
   "cell_type": "markdown",
   "metadata": {
    "id": "Xg5vR9UWR9st"
   },
   "source": [
    "# 6. Project Evaluation and Insights\n",
    "## 6.1. Future Enhancements\n",
    "\n",
    "- Deploy web and mobile application versions\n",
    "- Implement a check to prevent the user from uploading the same deck multiple times\n",
    "- Implement multiple choice question support\n",
    "- Implement cloud sync for deck sharing and statistics across devices\n",
    "- Implement a spaced repetition algorithm for optimized learning (e.g., scheduling review intervals)\n",
    "- Connect to a language model to allow for questions and answers that are not exact matches (e.g., fluent text)\n",
    "\n",
    "## 6.2. Known Issues\n",
    "\n",
    "- Scrolling with the mouse wheel is not working properly in the GUI.\n",
    "- The statistics are not saved after closing the UI.\n",
    "- The UI is not responsive and may not display correctly on all screen sizes.\n",
    "\n",
    "## 6.3. Important Learnings\n",
    "\n",
    "* Group coordination improved when we decided check-ins and deliverables in advance.\n",
    "* We didn't do the best job at splitting up the work.\n",
    "* Writing code based on someone else’s work means dealing with their decisions and constraints. This can be both limiting and challenging. It is limiting because you cannot fully implement your own ideas. It is challenging because you might have made different choices based on your own skills and abilities."
   ]
  }
 ],
 "metadata": {
  "language_info": {
   "name": "python"
  },
  "colab": {
   "provenance": [],
   "include_colab_link": true
  }
 },
 "nbformat": 4,
 "nbformat_minor": 0
}
