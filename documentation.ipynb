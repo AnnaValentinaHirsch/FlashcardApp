{
 "cells": [
  {
   "cell_type": "markdown",
   "metadata": {},
   "source": [
    "# Flash Card Project \n",
    "This project was created in the context of course \"Python Programming: Beginner to Practitioner\".\n",
    "\n",
    "| Contributors | E-Mail |\n",
    "|--------------|--------------|\n",
    "| @AlicemSu62  | |\n",
    "| @AnnaValentinaHirsch  | |\n",
    "| @nadja-macht | nadja.macht@gmail.com |\n",
    "| @pierremayer94  | |\n",
    "| @YannickKae | |\n",
    "\n"
   ]
  },
  {
   "cell_type": "markdown",
   "metadata": {},
   "source": [
    "# Introduction - Task Understanding\n",
    "\n",
    "Our objective for this project was to develop a Flash Card Tool designed to aid in learning various topics. The program should enable users to create, save, and manage their card sets and individual cards. Additionally, it should support users in studying the content of the cards. The tool should incorporate a scoring system to track user success and employ randomization to enhance the learning process.\n",
    "\n",
    "The project setup is modularized. This notebooks purpose is to document our approach, relevant parts of the code and the choices we made to get the project done.   Some Markdown text with <span style=\"color:Tomato\">**_[It does not contain the entire code.]_**</span>.\n",
    "\n",
    "---"
   ]
  },
  {
   "cell_type": "markdown",
   "metadata": {},
   "source": [
    "# Thinking Process\n",
    "\n",
    "We started out by visualizing and thinking through the functionality of the application. While this process helped to align our expectations and determine the requirements for the app, we expereinced that talking and visualizing would only bring us thus far. In order to make progress we had to start coding.\n",
    "\n",
    "### General assumptions and specifications\n",
    "* Keep it simple and the scope small to make sure we get the project done.\n",
    "* It's ok if not all our ideas are built into the program yet.\n",
    "* Deliver a command line tool. (This expectation changed in the last session.)\n",
    "* The MVP of the app will be used by a single user.\n",
    "* We need a way to save sets and cards.\n",
    "* We want some kind of scoring.\n",
    "* We want to randomize the cards.\n",
    "\n",
    "### Early decisions \n",
    "* Work with GitHub\n",
    "* Modularize, *.py files\n",
    "\n",
    "### Flow Chart FlashCard App\n",
    "\n",
    "![Flow Chart FlashCard App](images/flow-chart-flashcard-app.png \"Flow Chart FlashCard App\")"
   ]
  },
  {
   "cell_type": "markdown",
   "metadata": {},
   "source": [
    "# How to Run The Application\n",
    "\n",
    "### 1. Make sure to install requirements from requirements.txt\n",
    "### 2. Run gui.py\n",
    "\n",
    "\n",
    "---"
   ]
  },
  {
   "cell_type": "markdown",
   "metadata": {},
   "source": [
    "# Used Libraries and Modules\n",
    "\n",
    "```python\n",
    "import customtkinter as ctk\n",
    "```\n",
    "This imports the customtkinter library and assigns it the alias ctk. customtkinter is a custom version of the standard tkinter library that provides additional widgets and styles for creating modern and aesthetically pleasing GUIs. Using the alias ctk allows to refer refer to the library’s components in a more concise way within the code.\n",
    "\n",
    "```python\n",
    "import tkinter as tk\n",
    "```\n",
    "This imports the standard tkinter library, which is Python’s de facto standard GUI (Graphical User Interface) package. It allows to create windows, dialogs, buttons, menus, and many other GUI elements. Assigning it the alias tk simplifies the reference to the library’s classes and functions in the code.\n",
    "\n",
    "```python\n",
    "import tkinter.font as tkfont:\n",
    "```\n",
    "This imports the font module from the tkinter library and assigns it the alias tkfont. The tkinter.font module provides utilities to work with fonts in tkinter applications. It allows to create, modify, and apply different font styles to the text displayed in the GUI components.\n",
    "\n",
    "```python\n",
    "import re\n",
    "```\n",
    "This imports the re module, which provides support for working with regular expressions in Python. Regular expressions (regex) are a powerful tool for matching, searching, and manipulating strings based on specific patterns. The re module allows to perform complex string processing tasks, such as validating input, searching for patterns within text, and replacing substrings.\n",
    "\n",
    "---"
   ]
  },
  {
   "cell_type": "markdown",
   "metadata": {},
   "source": [
    "# GUI // gui.py\n",
    "\n",
    "Add important notes on the GUI"
   ]
  },
  {
   "cell_type": "markdown",
   "metadata": {},
   "source": [
    "# Help // help_screen.py, help_text.txt (@nadja-macht)\n",
    "\n",
    "<img src=\"images/help_screen.png\" width=\"300\" height=\"\">\n",
    "\n",
    "My intention was to provide a structured way to display formatted help information in the application, making it easy to update the help content by modifying a text file.\n",
    "\n",
    "**help_screen.py** defines two classes, **SimpleMarkdownText** and **HelpScreen**, which together create a help screen using the Tkinter GUI toolkit and its custom extension, CustomTkinter.\n",
    "\n",
    "1.\t**SimpleMarkdownText Class:**\n",
    "    This class renders Markdown text within a Tkinter frame. It parses the input Markdown text and creates corresponding widgets for headings, bullet points, bold text, italic text, and normal text. This allows for the display of formatted text within a Tkinter application.\n",
    "\n",
    "2.\t**HelpScreen Class:**\n",
    "    This class manages the help screen of the application. It sets the default font to Roboto (if available), clears existing widgets from the parent frame, and creates a new layout with a header and a scrollable frame containing the help text. The help text is loaded from a file named help_text.txt and displayed using the SimpleMarkdownText class.\n",
    "\n",
    "\n",
    "\n",
    "\n",
    "\n"
   ]
  },
  {
   "cell_type": "markdown",
   "metadata": {},
   "source": [
    "# Important Learnings\n",
    "\n",
    "* Group coordination improved when we decided check-ins and deliverables in advance.\n",
    "* We didn't do the best job at splitting up the work. \n",
    "* Writing code based on someone else’s work means dealing with their decisions and constraints. This can be both limiting and challenging. It is limiting because you cannot fully implement your own ideas. It is challenging because you might have made different choices based on your own skills and abilities."
   ]
  },
  {
   "cell_type": "markdown",
   "metadata": {},
   "source": [
    "# What Could Be Improved\n",
    "\n",
    "**Open issues and next steps to improve the current application:**\n",
    "\n",
    "* Add your thoughts here...\n",
    "* ..."
   ]
  }
 ],
 "metadata": {
  "language_info": {
   "name": "python"
  }
 },
 "nbformat": 4,
 "nbformat_minor": 2
}
