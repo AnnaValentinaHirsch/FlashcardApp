{
 "cells": [
  {
   "cell_type": "markdown",
   "metadata": {},
   "source": [
    "# FlashCard Game "
   ]
  },
  {
   "cell_type": "markdown",
   "metadata": {},
   "source": []
  },
  {
   "cell_type": "code",
   "execution_count": null,
   "metadata": {},
   "outputs": [],
   "source": [
    "class FlashCard:\n",
    "    \"\"\" Class to represent a flashcard. \"\"\"\n",
    "   \n",
    "    def __init__(self, question, answer):\n",
    "         \"\"\" Constructs all the necessary attributes for the flashcard object. \"\"\"\n",
    "   \n",
    "    def edit_card(self, new_question, new_answer):\n",
    "        \"\"\" Edit the question and answer of the flashcard. \"\"\"\n",
    "    \n",
    "    def delete_card(self):\n",
    "        \"\"\" Delete existing card \"\"\"\n",
    "\n",
    "    def add_card(self, ? ):\n",
    "        \"\"\" Add a flashcard to the card set. \"\"\"\n",
    "\n",
    "    def display_card(self):\n",
    "        \"\"\" Display the flashcard's question and answer. \"\"\""
   ]
  },
  {
   "cell_type": "markdown",
   "metadata": {},
   "source": [
    "# FLash Cards\n",
    "\n",
    "* We want to edit existing cards\n",
    "* We want to add and delete cards\n",
    "* We want to display cards\n"
   ]
  },
  {
   "cell_type": "markdown",
   "metadata": {},
   "source": []
  },
  {
   "cell_type": "code",
   "execution_count": null,
   "metadata": {},
   "outputs": [],
   "source": [
    "class CardSet:\n",
    "    \"\"\" Class to represent a set of flashcards. \"\"\"\n",
    "\n",
    "    def __init__(self, name):\n",
    "        \"\"\"Initialize\"\"\"\n",
    "\n",
    "    def create_card_set(self, name):\n",
    "        \"\"\"Create a card set\"\"\"\n",
    "\n",
    "    def remove_card(self, card_index):\n",
    "        \"\"\" Remove a flashcard from the card set. \"\"\"\n",
    "\n",
    "    def edit_card(self, card_index, new_question, new_answer):\n",
    "        \"\"\" Edit a flashcard in the card set. \"\"\"\n",
    "\n",
    "    def delete_card_set(self):\n",
    "        \"\"\" Delete card set. \"\"\"\n",
    "\n",
    "    def display_cards(self):\n",
    "        \"\"\"Display all flashcards in the card set.\"\"\""
   ]
  },
  {
   "cell_type": "markdown",
   "metadata": {},
   "source": [
    "# Card Set\n",
    "\n",
    "* We need to create new card sets\n",
    "* Cards Sets must be saved somewhere // data.txt or JSON file with sample data to load?\n",
    "* We want to edit and remove card sets\n",
    "* We want probably don't want to remove card sets that still contain questions\n",
    "* We want to double check delete"
   ]
  },
  {
   "cell_type": "code",
   "execution_count": null,
   "metadata": {},
   "outputs": [],
   "source": [
    "class Score:\n",
    "    \"\"\" Class to represent the learn score\"\"\"\n",
    "\n",
    "    def __init__(self):\n",
    "        \"\"\"Initialize\"\"\"\n",
    "    \n",
    "    def update_score(self):\n",
    "        \"\"\" Save the scores data to a file.\"\"\"\n",
    "    \n",
    "    def load_score(self, filename):\n",
    "        \"\"\" Load the score data from a file.\"\"\"\n",
    "\n",
    "    def increase_score(self):\n",
    "        \"\"\" Overwrite existing score \"\"\""
   ]
  },
  {
   "cell_type": "code",
   "execution_count": null,
   "metadata": {},
   "outputs": [],
   "source": [
    "class Game:\n",
    "    \"\"\" Class to represent the flashcard game.\"\"\"\n",
    "\n",
    "    def __init__(self, user):\n",
    "        \"\"\"Initialize\"\"\"\n",
    "\n",
    "    def play(self, card_set):\n",
    "        \"\"\" Play the flashcard game with a specific card set. \"\"\""
   ]
  },
  {
   "cell_type": "markdown",
   "metadata": {},
   "source": [
    "# Game\n",
    "\n",
    "* Play game on a specific set\n",
    "* Maybe merge with '''class Score''' to access and write the learn score"
   ]
  },
  {
   "cell_type": "markdown",
   "metadata": {},
   "source": []
  },
  {
   "cell_type": "code",
   "execution_count": null,
   "metadata": {},
   "outputs": [],
   "source": [
    "class Interface:\n",
    "    \"\"\" Class to represent the command-line interface for the flashcard game.\"\"\"\n",
    "\n",
    "    def __init__(self):\n",
    "        \"\"\"Initialize\"\"\"\n",
    "\n",
    "    def display_menu(self):\n",
    "        \"\"\" Display the main menu and get the user's choice \"\"\"\n",
    "    \n",
    "    def display_card_sets(self):\n",
    "        \"\"\"Display all existing card sets\"\"\"\n",
    "    \n",
    "    def play_game(self):\n",
    "        \"\"\"Learn a specific card game\"\"\"\n",
    "\n",
    "    def save_and_exit(self):\n"
   ]
  },
  {
   "cell_type": "markdown",
   "metadata": {},
   "source": [
    "# Interface\n",
    "\n",
    "* Display Welcome Message\n",
    "* List Existing Card Sets\n",
    "* Display Menue\n",
    "* We want to save and exit from anywhere"
   ]
  }
 ],
 "metadata": {
  "language_info": {
   "name": "python"
  }
 },
 "nbformat": 4,
 "nbformat_minor": 2
}
